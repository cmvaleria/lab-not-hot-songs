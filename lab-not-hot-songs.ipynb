{
 "cells": [
  {
   "cell_type": "code",
   "execution_count": 1,
   "id": "1d859d43-9017-4b20-9909-c6e66a2f8648",
   "metadata": {},
   "outputs": [],
   "source": [
    "import pandas as pd\n",
    "import numpy as np\n",
    "import re"
   ]
  },
  {
   "cell_type": "code",
   "execution_count": 2,
   "id": "a125743c-5aa6-40d2-a936-d6bd6634a79b",
   "metadata": {},
   "outputs": [
    {
     "data": {
      "text/plain": [
       "(11084, 2)"
      ]
     },
     "metadata": {},
     "output_type": "display_data"
    },
    {
     "data": {
      "text/html": [
       "<div>\n",
       "<style scoped>\n",
       "    .dataframe tbody tr th:only-of-type {\n",
       "        vertical-align: middle;\n",
       "    }\n",
       "\n",
       "    .dataframe tbody tr th {\n",
       "        vertical-align: top;\n",
       "    }\n",
       "\n",
       "    .dataframe thead th {\n",
       "        text-align: right;\n",
       "    }\n",
       "</style>\n",
       "<table border=\"1\" class=\"dataframe\">\n",
       "  <thead>\n",
       "    <tr style=\"text-align: right;\">\n",
       "      <th></th>\n",
       "      <th>song</th>\n",
       "      <th>artist</th>\n",
       "    </tr>\n",
       "  </thead>\n",
       "  <tbody>\n",
       "    <tr>\n",
       "      <th>0</th>\n",
       "      <td>Sunflower  SpiderMan: Into the SpiderVerse</td>\n",
       "      <td>Post Malone</td>\n",
       "    </tr>\n",
       "    <tr>\n",
       "      <th>1</th>\n",
       "      <td>Lucid Dreams</td>\n",
       "      <td>Juice WRLD</td>\n",
       "    </tr>\n",
       "    <tr>\n",
       "      <th>2</th>\n",
       "      <td>XO TOUR Llif3</td>\n",
       "      <td>Lil Uzi Vert</td>\n",
       "    </tr>\n",
       "    <tr>\n",
       "      <th>3</th>\n",
       "      <td>No Role Modelz</td>\n",
       "      <td>J. Cole</td>\n",
       "    </tr>\n",
       "    <tr>\n",
       "      <th>4</th>\n",
       "      <td>rockstar</td>\n",
       "      <td>Post Malone</td>\n",
       "    </tr>\n",
       "  </tbody>\n",
       "</table>\n",
       "</div>"
      ],
      "text/plain": [
       "                                         song         artist\n",
       "0  Sunflower  SpiderMan: Into the SpiderVerse   Post Malone \n",
       "1                                Lucid Dreams    Juice WRLD \n",
       "2                               XO TOUR Llif3  Lil Uzi Vert \n",
       "3                              No Role Modelz       J. Cole \n",
       "4                                    rockstar   Post Malone "
      ]
     },
     "metadata": {},
     "output_type": "display_data"
    },
    {
     "data": {
      "text/plain": [
       "(10945, 2)"
      ]
     },
     "metadata": {},
     "output_type": "display_data"
    },
    {
     "data": {
      "text/html": [
       "<div>\n",
       "<style scoped>\n",
       "    .dataframe tbody tr th:only-of-type {\n",
       "        vertical-align: middle;\n",
       "    }\n",
       "\n",
       "    .dataframe tbody tr th {\n",
       "        vertical-align: top;\n",
       "    }\n",
       "\n",
       "    .dataframe thead th {\n",
       "        text-align: right;\n",
       "    }\n",
       "</style>\n",
       "<table border=\"1\" class=\"dataframe\">\n",
       "  <thead>\n",
       "    <tr style=\"text-align: right;\">\n",
       "      <th></th>\n",
       "      <th>song</th>\n",
       "      <th>artist</th>\n",
       "    </tr>\n",
       "  </thead>\n",
       "  <tbody>\n",
       "    <tr>\n",
       "      <th>0</th>\n",
       "      <td>Flowers</td>\n",
       "      <td>Miley Cyrus</td>\n",
       "    </tr>\n",
       "    <tr>\n",
       "      <th>1</th>\n",
       "      <td>Kill Bill</td>\n",
       "      <td>SZA</td>\n",
       "    </tr>\n",
       "    <tr>\n",
       "      <th>2</th>\n",
       "      <td>Creepin'</td>\n",
       "      <td>Metro Boomin, The Weeknd &amp; 21 Savage</td>\n",
       "    </tr>\n",
       "    <tr>\n",
       "      <th>3</th>\n",
       "      <td>Anti-Hero</td>\n",
       "      <td>Taylor Swift</td>\n",
       "    </tr>\n",
       "    <tr>\n",
       "      <th>4</th>\n",
       "      <td>Unholy</td>\n",
       "      <td>Sam Smith &amp; Kim Petras</td>\n",
       "    </tr>\n",
       "  </tbody>\n",
       "</table>\n",
       "</div>"
      ],
      "text/plain": [
       "        song                                artist\n",
       "0    Flowers                           Miley Cyrus\n",
       "1  Kill Bill                                   SZA\n",
       "2   Creepin'  Metro Boomin, The Weeknd & 21 Savage\n",
       "3  Anti-Hero                          Taylor Swift\n",
       "4     Unholy                Sam Smith & Kim Petras"
      ]
     },
     "metadata": {},
     "output_type": "display_data"
    },
    {
     "data": {
      "text/plain": [
       "(100, 2)"
      ]
     },
     "metadata": {},
     "output_type": "display_data"
    }
   ],
   "source": [
    "data = pd.read_csv('./files_for_lab/Spotify_final_dataset.csv')\n",
    "top_100 = pd.read_csv('./files_for_lab/top_100.csv')\n",
    "data.columns = [col.lower().replace(' ', '_') for col in data.columns]\n",
    "data = data[['artist_name', 'song_name']]\n",
    "data.rename(columns = {'artist_name': 'artist', 'song_name':'song'}, inplace=True)\n",
    "data = data[['song','artist']]\n",
    "display(data.shape)\n",
    "data = data.drop_duplicates()\n",
    "top_100 = top_100.drop(['Number'], axis=1)\n",
    "top_100.columns = [col.lower().replace(' ', '_') for col in top_100.columns]\n",
    "display(data.head())\n",
    "display(data.shape)\n",
    "display(top_100.head())\n",
    "display(top_100.shape)"
   ]
  },
  {
   "cell_type": "code",
   "execution_count": 3,
   "id": "4e951142-4458-45ab-9244-ddded713a06d",
   "metadata": {},
   "outputs": [],
   "source": [
    "top_100['artist'] = top_100['artist'].str.lower()\n",
    "top_100['song'] = top_100['song'].str.lower()\n",
    "top_100['song'] = top_100['song'].str.replace(' ', '_')\n",
    "top_100['artist'] = top_100['artist'].str.replace(' ', '_')\n",
    "\n",
    "\n",
    "data['artist'] = data['artist'].str.lower()\n",
    "data['song'] = data['song'].str.lower()\n",
    "data['song'] = data['song'].str.replace(' ', '_')\n",
    "data['artist'] = data['artist'].str.replace(' ', '_')\n",
    "data['artist'] = data['artist'].str.rstrip('_')"
   ]
  },
  {
   "cell_type": "code",
   "execution_count": 4,
   "id": "97ebdc6e-0423-411a-86ac-15b1b71dc600",
   "metadata": {},
   "outputs": [
    {
     "data": {
      "text/html": [
       "<div>\n",
       "<style scoped>\n",
       "    .dataframe tbody tr th:only-of-type {\n",
       "        vertical-align: middle;\n",
       "    }\n",
       "\n",
       "    .dataframe tbody tr th {\n",
       "        vertical-align: top;\n",
       "    }\n",
       "\n",
       "    .dataframe thead th {\n",
       "        text-align: right;\n",
       "    }\n",
       "</style>\n",
       "<table border=\"1\" class=\"dataframe\">\n",
       "  <thead>\n",
       "    <tr style=\"text-align: right;\">\n",
       "      <th></th>\n",
       "      <th>song</th>\n",
       "      <th>artist</th>\n",
       "    </tr>\n",
       "  </thead>\n",
       "  <tbody>\n",
       "    <tr>\n",
       "      <th>0</th>\n",
       "      <td>sunflower__spiderman:_into_the_spiderverse</td>\n",
       "      <td>post_malone</td>\n",
       "    </tr>\n",
       "    <tr>\n",
       "      <th>1</th>\n",
       "      <td>lucid_dreams</td>\n",
       "      <td>juice_wrld</td>\n",
       "    </tr>\n",
       "    <tr>\n",
       "      <th>2</th>\n",
       "      <td>xo_tour_llif3</td>\n",
       "      <td>lil_uzi_vert</td>\n",
       "    </tr>\n",
       "    <tr>\n",
       "      <th>3</th>\n",
       "      <td>no_role_modelz</td>\n",
       "      <td>j._cole</td>\n",
       "    </tr>\n",
       "    <tr>\n",
       "      <th>4</th>\n",
       "      <td>rockstar</td>\n",
       "      <td>post_malone</td>\n",
       "    </tr>\n",
       "  </tbody>\n",
       "</table>\n",
       "</div>"
      ],
      "text/plain": [
       "                                         song        artist\n",
       "0  sunflower__spiderman:_into_the_spiderverse   post_malone\n",
       "1                                lucid_dreams    juice_wrld\n",
       "2                               xo_tour_llif3  lil_uzi_vert\n",
       "3                              no_role_modelz       j._cole\n",
       "4                                    rockstar   post_malone"
      ]
     },
     "metadata": {},
     "output_type": "display_data"
    },
    {
     "data": {
      "text/plain": [
       "(10945, 2)"
      ]
     },
     "metadata": {},
     "output_type": "display_data"
    },
    {
     "data": {
      "text/html": [
       "<div>\n",
       "<style scoped>\n",
       "    .dataframe tbody tr th:only-of-type {\n",
       "        vertical-align: middle;\n",
       "    }\n",
       "\n",
       "    .dataframe tbody tr th {\n",
       "        vertical-align: top;\n",
       "    }\n",
       "\n",
       "    .dataframe thead th {\n",
       "        text-align: right;\n",
       "    }\n",
       "</style>\n",
       "<table border=\"1\" class=\"dataframe\">\n",
       "  <thead>\n",
       "    <tr style=\"text-align: right;\">\n",
       "      <th></th>\n",
       "      <th>song</th>\n",
       "      <th>artist</th>\n",
       "    </tr>\n",
       "  </thead>\n",
       "  <tbody>\n",
       "    <tr>\n",
       "      <th>0</th>\n",
       "      <td>flowers</td>\n",
       "      <td>miley_cyrus</td>\n",
       "    </tr>\n",
       "    <tr>\n",
       "      <th>1</th>\n",
       "      <td>kill_bill</td>\n",
       "      <td>sza</td>\n",
       "    </tr>\n",
       "    <tr>\n",
       "      <th>2</th>\n",
       "      <td>creepin'</td>\n",
       "      <td>metro_boomin,_the_weeknd_&amp;_21_savage</td>\n",
       "    </tr>\n",
       "    <tr>\n",
       "      <th>3</th>\n",
       "      <td>anti-hero</td>\n",
       "      <td>taylor_swift</td>\n",
       "    </tr>\n",
       "    <tr>\n",
       "      <th>4</th>\n",
       "      <td>unholy</td>\n",
       "      <td>sam_smith_&amp;_kim_petras</td>\n",
       "    </tr>\n",
       "  </tbody>\n",
       "</table>\n",
       "</div>"
      ],
      "text/plain": [
       "        song                                artist\n",
       "0    flowers                           miley_cyrus\n",
       "1  kill_bill                                   sza\n",
       "2   creepin'  metro_boomin,_the_weeknd_&_21_savage\n",
       "3  anti-hero                          taylor_swift\n",
       "4     unholy                sam_smith_&_kim_petras"
      ]
     },
     "metadata": {},
     "output_type": "display_data"
    },
    {
     "data": {
      "text/plain": [
       "(100, 2)"
      ]
     },
     "metadata": {},
     "output_type": "display_data"
    }
   ],
   "source": [
    "display(data.head())\n",
    "display(data.shape)\n",
    "display(top_100.head())\n",
    "display(top_100.shape)"
   ]
  },
  {
   "cell_type": "markdown",
   "id": "9cfce697-206b-43f2-975f-2a7684d9afda",
   "metadata": {},
   "source": [
    "data_final = pd.concat([data, top_100], axis=0)\n",
    "display(data_final.shape)\n",
    "data_final = data_final.drop_duplicates()\n",
    "display(data_final.shape)\n",
    "data_final = data_final.reset_index(drop=True)"
   ]
  },
  {
   "cell_type": "code",
   "execution_count": 5,
   "id": "30508656-7295-433a-9db5-6d64dc0d3e6f",
   "metadata": {},
   "outputs": [
    {
     "data": {
      "text/plain": [
       "(10945, 2)"
      ]
     },
     "metadata": {},
     "output_type": "display_data"
    }
   ],
   "source": [
    "display(data.shape)"
   ]
  },
  {
   "cell_type": "code",
   "execution_count": 6,
   "id": "038f91a0-d34f-4819-96a0-f8fbbedcab5c",
   "metadata": {},
   "outputs": [],
   "source": [
    "data['check'] = data.song.isin(top_100.song)"
   ]
  },
  {
   "cell_type": "code",
   "execution_count": 7,
   "id": "64ee4c9c-a371-4844-9e4b-0a2979cd3474",
   "metadata": {},
   "outputs": [
    {
     "data": {
      "text/html": [
       "<div>\n",
       "<style scoped>\n",
       "    .dataframe tbody tr th:only-of-type {\n",
       "        vertical-align: middle;\n",
       "    }\n",
       "\n",
       "    .dataframe tbody tr th {\n",
       "        vertical-align: top;\n",
       "    }\n",
       "\n",
       "    .dataframe thead th {\n",
       "        text-align: right;\n",
       "    }\n",
       "</style>\n",
       "<table border=\"1\" class=\"dataframe\">\n",
       "  <thead>\n",
       "    <tr style=\"text-align: right;\">\n",
       "      <th></th>\n",
       "      <th>song</th>\n",
       "      <th>artist</th>\n",
       "      <th>check</th>\n",
       "    </tr>\n",
       "  </thead>\n",
       "  <tbody>\n",
       "    <tr>\n",
       "      <th>0</th>\n",
       "      <td>sunflower__spiderman:_into_the_spiderverse</td>\n",
       "      <td>post_malone</td>\n",
       "      <td>False</td>\n",
       "    </tr>\n",
       "    <tr>\n",
       "      <th>1</th>\n",
       "      <td>lucid_dreams</td>\n",
       "      <td>juice_wrld</td>\n",
       "      <td>False</td>\n",
       "    </tr>\n",
       "    <tr>\n",
       "      <th>2</th>\n",
       "      <td>xo_tour_llif3</td>\n",
       "      <td>lil_uzi_vert</td>\n",
       "      <td>False</td>\n",
       "    </tr>\n",
       "    <tr>\n",
       "      <th>3</th>\n",
       "      <td>no_role_modelz</td>\n",
       "      <td>j._cole</td>\n",
       "      <td>False</td>\n",
       "    </tr>\n",
       "    <tr>\n",
       "      <th>4</th>\n",
       "      <td>rockstar</td>\n",
       "      <td>post_malone</td>\n",
       "      <td>False</td>\n",
       "    </tr>\n",
       "    <tr>\n",
       "      <th>...</th>\n",
       "      <td>...</td>\n",
       "      <td>...</td>\n",
       "      <td>...</td>\n",
       "    </tr>\n",
       "    <tr>\n",
       "      <th>11079</th>\n",
       "      <td>if_i_die_young</td>\n",
       "      <td>the_band_perry</td>\n",
       "      <td>False</td>\n",
       "    </tr>\n",
       "    <tr>\n",
       "      <th>11080</th>\n",
       "      <td>not_a_bad_thing</td>\n",
       "      <td>justin_timberlake</td>\n",
       "      <td>False</td>\n",
       "    </tr>\n",
       "    <tr>\n",
       "      <th>11081</th>\n",
       "      <td>it__23</td>\n",
       "      <td>mike_will_made</td>\n",
       "      <td>False</td>\n",
       "    </tr>\n",
       "    <tr>\n",
       "      <th>11082</th>\n",
       "      <td>somebody_to_you</td>\n",
       "      <td>the_vamps</td>\n",
       "      <td>False</td>\n",
       "    </tr>\n",
       "    <tr>\n",
       "      <th>11083</th>\n",
       "      <td>z__holy_grail</td>\n",
       "      <td>jay</td>\n",
       "      <td>False</td>\n",
       "    </tr>\n",
       "  </tbody>\n",
       "</table>\n",
       "<p>10945 rows × 3 columns</p>\n",
       "</div>"
      ],
      "text/plain": [
       "                                             song             artist  check\n",
       "0      sunflower__spiderman:_into_the_spiderverse        post_malone  False\n",
       "1                                    lucid_dreams         juice_wrld  False\n",
       "2                                   xo_tour_llif3       lil_uzi_vert  False\n",
       "3                                  no_role_modelz            j._cole  False\n",
       "4                                        rockstar        post_malone  False\n",
       "...                                           ...                ...    ...\n",
       "11079                              if_i_die_young     the_band_perry  False\n",
       "11080                             not_a_bad_thing  justin_timberlake  False\n",
       "11081                                      it__23     mike_will_made  False\n",
       "11082                             somebody_to_you          the_vamps  False\n",
       "11083                               z__holy_grail                jay  False\n",
       "\n",
       "[10945 rows x 3 columns]"
      ]
     },
     "execution_count": 7,
     "metadata": {},
     "output_type": "execute_result"
    }
   ],
   "source": [
    "data_original = data.shape[0]\n",
    "data"
   ]
  },
  {
   "cell_type": "code",
   "execution_count": 8,
   "id": "eea65ab9-5e4d-441a-8061-2856eb711182",
   "metadata": {},
   "outputs": [
    {
     "data": {
      "text/plain": [
       "10862"
      ]
     },
     "execution_count": 8,
     "metadata": {},
     "output_type": "execute_result"
    }
   ],
   "source": [
    "data2 = data[(data['check'] == False)]\n",
    "data_final = data2.shape[0]\n",
    "data_final"
   ]
  },
  {
   "cell_type": "code",
   "execution_count": 9,
   "id": "04852b2d-cccb-48a5-a40b-430bb9c85a7c",
   "metadata": {},
   "outputs": [],
   "source": [
    "data = data.drop(['check'], axis=1)"
   ]
  },
  {
   "cell_type": "code",
   "execution_count": 10,
   "id": "2d1ef958-4916-44ef-8f18-24331bfd4474",
   "metadata": {},
   "outputs": [
    {
     "name": "stdout",
     "output_type": "stream",
     "text": [
      "Number of songs in downloaded dataset that were also in the top 100: 83\n"
     ]
    }
   ],
   "source": [
    "print('Number of songs in downloaded dataset that were also in the top 100:',data_original - data_final)"
   ]
  },
  {
   "cell_type": "code",
   "execution_count": null,
   "id": "26c476d6-c598-4e6e-8e77-a0595ab24e99",
   "metadata": {},
   "outputs": [],
   "source": []
  }
 ],
 "metadata": {
  "kernelspec": {
   "display_name": "Python 3 (ipykernel)",
   "language": "python",
   "name": "python3"
  },
  "language_info": {
   "codemirror_mode": {
    "name": "ipython",
    "version": 3
   },
   "file_extension": ".py",
   "mimetype": "text/x-python",
   "name": "python",
   "nbconvert_exporter": "python",
   "pygments_lexer": "ipython3",
   "version": "3.9.13"
  }
 },
 "nbformat": 4,
 "nbformat_minor": 5
}
