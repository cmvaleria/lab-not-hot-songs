{
 "cells": [
  {
   "cell_type": "markdown",
   "id": "ef86a71d",
   "metadata": {},
   "source": [
    "# Lab | Not hot songs"
   ]
  },
  {
   "cell_type": "code",
   "execution_count": 1,
   "id": "90a8cda2",
   "metadata": {},
   "outputs": [],
   "source": [
    "import pandas as pd\n",
    "import numpy as np"
   ]
  },
  {
   "cell_type": "code",
   "execution_count": 2,
   "id": "c7a1306f",
   "metadata": {},
   "outputs": [
    {
     "name": "stdout",
     "output_type": "stream",
     "text": [
      "ls: Lab_Afternoon/Files_for_lab/: No such file or directory\r\n"
     ]
    }
   ],
   "source": [
    "ls Lab_Afternoon/Files_for_lab/"
   ]
  },
  {
   "cell_type": "code",
   "execution_count": 3,
   "id": "c1fd5a39",
   "metadata": {},
   "outputs": [],
   "source": [
    "spotify_data = pd.read_csv('Files_for_lab/Spotify_final_dataset.csv')"
   ]
  },
  {
   "cell_type": "code",
   "execution_count": 4,
   "id": "ff94d748",
   "metadata": {},
   "outputs": [
    {
     "data": {
      "text/html": [
       "<div>\n",
       "<style scoped>\n",
       "    .dataframe tbody tr th:only-of-type {\n",
       "        vertical-align: middle;\n",
       "    }\n",
       "\n",
       "    .dataframe tbody tr th {\n",
       "        vertical-align: top;\n",
       "    }\n",
       "\n",
       "    .dataframe thead th {\n",
       "        text-align: right;\n",
       "    }\n",
       "</style>\n",
       "<table border=\"1\" class=\"dataframe\">\n",
       "  <thead>\n",
       "    <tr style=\"text-align: right;\">\n",
       "      <th></th>\n",
       "      <th>Position</th>\n",
       "      <th>Artist Name</th>\n",
       "      <th>Song Name</th>\n",
       "      <th>Days</th>\n",
       "      <th>Top 10 (xTimes)</th>\n",
       "      <th>Peak Position</th>\n",
       "      <th>Peak Position (xTimes)</th>\n",
       "      <th>Peak Streams</th>\n",
       "      <th>Total Streams</th>\n",
       "    </tr>\n",
       "  </thead>\n",
       "  <tbody>\n",
       "    <tr>\n",
       "      <th>0</th>\n",
       "      <td>1</td>\n",
       "      <td>Post Malone</td>\n",
       "      <td>Sunflower  SpiderMan: Into the SpiderVerse</td>\n",
       "      <td>1506</td>\n",
       "      <td>302.0</td>\n",
       "      <td>1</td>\n",
       "      <td>(x29)</td>\n",
       "      <td>2118242</td>\n",
       "      <td>883369738</td>\n",
       "    </tr>\n",
       "    <tr>\n",
       "      <th>1</th>\n",
       "      <td>2</td>\n",
       "      <td>Juice WRLD</td>\n",
       "      <td>Lucid Dreams</td>\n",
       "      <td>1673</td>\n",
       "      <td>178.0</td>\n",
       "      <td>1</td>\n",
       "      <td>(x20)</td>\n",
       "      <td>2127668</td>\n",
       "      <td>864832399</td>\n",
       "    </tr>\n",
       "    <tr>\n",
       "      <th>2</th>\n",
       "      <td>3</td>\n",
       "      <td>Lil Uzi Vert</td>\n",
       "      <td>XO TOUR Llif3</td>\n",
       "      <td>1853</td>\n",
       "      <td>212.0</td>\n",
       "      <td>1</td>\n",
       "      <td>(x4)</td>\n",
       "      <td>1660502</td>\n",
       "      <td>781153024</td>\n",
       "    </tr>\n",
       "    <tr>\n",
       "      <th>3</th>\n",
       "      <td>4</td>\n",
       "      <td>J. Cole</td>\n",
       "      <td>No Role Modelz</td>\n",
       "      <td>2547</td>\n",
       "      <td>6.0</td>\n",
       "      <td>7</td>\n",
       "      <td>0</td>\n",
       "      <td>659366</td>\n",
       "      <td>734857487</td>\n",
       "    </tr>\n",
       "    <tr>\n",
       "      <th>4</th>\n",
       "      <td>5</td>\n",
       "      <td>Post Malone</td>\n",
       "      <td>rockstar</td>\n",
       "      <td>1223</td>\n",
       "      <td>186.0</td>\n",
       "      <td>1</td>\n",
       "      <td>(x124)</td>\n",
       "      <td>2905678</td>\n",
       "      <td>718865961</td>\n",
       "    </tr>\n",
       "  </tbody>\n",
       "</table>\n",
       "</div>"
      ],
      "text/plain": [
       "   Position    Artist Name                                   Song Name  Days  \\\n",
       "0         1   Post Malone   Sunflower  SpiderMan: Into the SpiderVerse  1506   \n",
       "1         2    Juice WRLD                                 Lucid Dreams  1673   \n",
       "2         3  Lil Uzi Vert                                XO TOUR Llif3  1853   \n",
       "3         4       J. Cole                               No Role Modelz  2547   \n",
       "4         5   Post Malone                                     rockstar  1223   \n",
       "\n",
       "   Top 10 (xTimes)  Peak Position Peak Position (xTimes)  Peak Streams  \\\n",
       "0            302.0              1                  (x29)       2118242   \n",
       "1            178.0              1                  (x20)       2127668   \n",
       "2            212.0              1                   (x4)       1660502   \n",
       "3              6.0              7                      0        659366   \n",
       "4            186.0              1                 (x124)       2905678   \n",
       "\n",
       "   Total Streams  \n",
       "0      883369738  \n",
       "1      864832399  \n",
       "2      781153024  \n",
       "3      734857487  \n",
       "4      718865961  "
      ]
     },
     "execution_count": 4,
     "metadata": {},
     "output_type": "execute_result"
    }
   ],
   "source": [
    "spotify_data.head()"
   ]
  },
  {
   "cell_type": "code",
   "execution_count": 5,
   "id": "73dafa2a",
   "metadata": {},
   "outputs": [],
   "source": [
    "spotify_data = spotify_data[['Artist Name','Song Name']]"
   ]
  },
  {
   "cell_type": "code",
   "execution_count": 6,
   "id": "9d19c364",
   "metadata": {},
   "outputs": [],
   "source": [
    "cols = []\n",
    "for col in spotify_data.columns:\n",
    "  cols.append(col.lower().replace(' ', '_'))\n",
    "spotify_data.columns = cols"
   ]
  },
  {
   "cell_type": "code",
   "execution_count": 7,
   "id": "d0b651ee",
   "metadata": {},
   "outputs": [],
   "source": [
    "top100 = pd.read_csv('Files_for_lab/top_100.csv')"
   ]
  },
  {
   "cell_type": "code",
   "execution_count": 8,
   "id": "f5bb40df",
   "metadata": {},
   "outputs": [],
   "source": [
    "top100 = top100.drop(columns='Number')"
   ]
  },
  {
   "cell_type": "code",
   "execution_count": 9,
   "id": "0f059e22",
   "metadata": {},
   "outputs": [
    {
     "data": {
      "text/html": [
       "<div>\n",
       "<style scoped>\n",
       "    .dataframe tbody tr th:only-of-type {\n",
       "        vertical-align: middle;\n",
       "    }\n",
       "\n",
       "    .dataframe tbody tr th {\n",
       "        vertical-align: top;\n",
       "    }\n",
       "\n",
       "    .dataframe thead th {\n",
       "        text-align: right;\n",
       "    }\n",
       "</style>\n",
       "<table border=\"1\" class=\"dataframe\">\n",
       "  <thead>\n",
       "    <tr style=\"text-align: right;\">\n",
       "      <th></th>\n",
       "      <th>Song</th>\n",
       "      <th>Artist</th>\n",
       "    </tr>\n",
       "  </thead>\n",
       "  <tbody>\n",
       "    <tr>\n",
       "      <th>0</th>\n",
       "      <td>Flowers</td>\n",
       "      <td>Miley Cyrus</td>\n",
       "    </tr>\n",
       "    <tr>\n",
       "      <th>1</th>\n",
       "      <td>Kill Bill</td>\n",
       "      <td>SZA</td>\n",
       "    </tr>\n",
       "    <tr>\n",
       "      <th>2</th>\n",
       "      <td>Creepin'</td>\n",
       "      <td>Metro Boomin, The Weeknd &amp; 21 Savage</td>\n",
       "    </tr>\n",
       "    <tr>\n",
       "      <th>3</th>\n",
       "      <td>Anti-Hero</td>\n",
       "      <td>Taylor Swift</td>\n",
       "    </tr>\n",
       "    <tr>\n",
       "      <th>4</th>\n",
       "      <td>Unholy</td>\n",
       "      <td>Sam Smith &amp; Kim Petras</td>\n",
       "    </tr>\n",
       "  </tbody>\n",
       "</table>\n",
       "</div>"
      ],
      "text/plain": [
       "        Song                                Artist\n",
       "0    Flowers                           Miley Cyrus\n",
       "1  Kill Bill                                   SZA\n",
       "2   Creepin'  Metro Boomin, The Weeknd & 21 Savage\n",
       "3  Anti-Hero                          Taylor Swift\n",
       "4     Unholy                Sam Smith & Kim Petras"
      ]
     },
     "execution_count": 9,
     "metadata": {},
     "output_type": "execute_result"
    }
   ],
   "source": [
    "top100.head()"
   ]
  },
  {
   "cell_type": "markdown",
   "id": "715de574",
   "metadata": {},
   "source": [
    "### cleaning words"
   ]
  },
  {
   "cell_type": "code",
   "execution_count": 10,
   "id": "2282d234",
   "metadata": {},
   "outputs": [],
   "source": [
    "top100['Artist'] = top100['Artist'].str.lower()\n",
    "top100['Artist'] = top100['Artist'].str.replace(' ', '_')\n",
    "spotify_data['artist_name'] = spotify_data['artist_name'].str.lower()\n",
    "spotify_data['artist_name'] = spotify_data['artist_name'].str.replace(' ', '_')\n",
    "spotify_data['artist_name'] = spotify_data['artist_name'].str.rstrip('_')\n",
    "spotify_data['song_name'] = spotify_data['song_name'].str.lower()\n",
    "spotify_data['song_name'] = spotify_data['song_name'].str.replace(' ', '_')\n",
    "top100['Song'] = top100['Song'].str.lower()\n",
    "top100['Song'] = top100['Song'].str.replace(' ', '_')\n",
    "spotify_data = spotify_data.drop_duplicates()"
   ]
  },
  {
   "cell_type": "code",
   "execution_count": 11,
   "id": "f1948e6e",
   "metadata": {},
   "outputs": [
    {
     "data": {
      "text/plain": [
       "(10943, 2)"
      ]
     },
     "execution_count": 11,
     "metadata": {},
     "output_type": "execute_result"
    }
   ],
   "source": [
    "spotify_data.shape"
   ]
  },
  {
   "cell_type": "code",
   "execution_count": 12,
   "id": "e6d603d0",
   "metadata": {
    "scrolled": true
   },
   "outputs": [
    {
     "data": {
      "text/html": [
       "<div>\n",
       "<style scoped>\n",
       "    .dataframe tbody tr th:only-of-type {\n",
       "        vertical-align: middle;\n",
       "    }\n",
       "\n",
       "    .dataframe tbody tr th {\n",
       "        vertical-align: top;\n",
       "    }\n",
       "\n",
       "    .dataframe thead th {\n",
       "        text-align: right;\n",
       "    }\n",
       "</style>\n",
       "<table border=\"1\" class=\"dataframe\">\n",
       "  <thead>\n",
       "    <tr style=\"text-align: right;\">\n",
       "      <th></th>\n",
       "      <th>artist_name</th>\n",
       "      <th>song_name</th>\n",
       "      <th>check</th>\n",
       "    </tr>\n",
       "  </thead>\n",
       "  <tbody>\n",
       "    <tr>\n",
       "      <th>51</th>\n",
       "      <td>harry_styles</td>\n",
       "      <td>as_it_was</td>\n",
       "      <td>True</td>\n",
       "    </tr>\n",
       "    <tr>\n",
       "      <th>136</th>\n",
       "      <td>the_weeknd</td>\n",
       "      <td>die_for_you</td>\n",
       "      <td>True</td>\n",
       "    </tr>\n",
       "    <tr>\n",
       "      <th>139</th>\n",
       "      <td>steve_lacy</td>\n",
       "      <td>bad_habit</td>\n",
       "      <td>True</td>\n",
       "    </tr>\n",
       "    <tr>\n",
       "      <th>290</th>\n",
       "      <td>future</td>\n",
       "      <td>wait_for_u</td>\n",
       "      <td>True</td>\n",
       "    </tr>\n",
       "    <tr>\n",
       "      <th>316</th>\n",
       "      <td>lizzo</td>\n",
       "      <td>about_damn_time</td>\n",
       "      <td>True</td>\n",
       "    </tr>\n",
       "    <tr>\n",
       "      <th>...</th>\n",
       "      <td>...</td>\n",
       "      <td>...</td>\n",
       "      <td>...</td>\n",
       "    </tr>\n",
       "    <tr>\n",
       "      <th>7885</th>\n",
       "      <td>lainey_wilson</td>\n",
       "      <td>heart_like_a_truck</td>\n",
       "      <td>True</td>\n",
       "    </tr>\n",
       "    <tr>\n",
       "      <th>8577</th>\n",
       "      <td>nav</td>\n",
       "      <td>snap</td>\n",
       "      <td>True</td>\n",
       "    </tr>\n",
       "    <tr>\n",
       "      <th>8671</th>\n",
       "      <td>sabrina_carpenter</td>\n",
       "      <td>nonsense</td>\n",
       "      <td>True</td>\n",
       "    </tr>\n",
       "    <tr>\n",
       "      <th>10780</th>\n",
       "      <td>sia</td>\n",
       "      <td>unstoppable</td>\n",
       "      <td>True</td>\n",
       "    </tr>\n",
       "    <tr>\n",
       "      <th>10850</th>\n",
       "      <td>flo_rida</td>\n",
       "      <td>low</td>\n",
       "      <td>True</td>\n",
       "    </tr>\n",
       "  </tbody>\n",
       "</table>\n",
       "<p>83 rows × 3 columns</p>\n",
       "</div>"
      ],
      "text/plain": [
       "             artist_name           song_name  check\n",
       "51          harry_styles           as_it_was   True\n",
       "136           the_weeknd         die_for_you   True\n",
       "139           steve_lacy           bad_habit   True\n",
       "290               future          wait_for_u   True\n",
       "316                lizzo     about_damn_time   True\n",
       "...                  ...                 ...    ...\n",
       "7885       lainey_wilson  heart_like_a_truck   True\n",
       "8577                 nav                snap   True\n",
       "8671   sabrina_carpenter            nonsense   True\n",
       "10780                sia         unstoppable   True\n",
       "10850           flo_rida                 low   True\n",
       "\n",
       "[83 rows x 3 columns]"
      ]
     },
     "execution_count": 12,
     "metadata": {},
     "output_type": "execute_result"
    }
   ],
   "source": [
    "spotify_data['check'] = spotify_data['song_name'].isin(top100['Song'])\n",
    "spotify_data[spotify_data['check']==True]"
   ]
  },
  {
   "cell_type": "code",
   "execution_count": 13,
   "id": "3fbec0a0",
   "metadata": {},
   "outputs": [],
   "source": [
    "spotify_data = spotify_data[spotify_data['check']==False]"
   ]
  },
  {
   "cell_type": "code",
   "execution_count": 14,
   "id": "e7f650c5",
   "metadata": {},
   "outputs": [],
   "source": [
    "spotify_data = spotify_data[['song_name','artist_name']]"
   ]
  },
  {
   "cell_type": "code",
   "execution_count": 15,
   "id": "139cc595",
   "metadata": {},
   "outputs": [],
   "source": [
    "spotify_data = spotify_data.rename(columns={'song_name':'song','artist_name':'artist'})"
   ]
  },
  {
   "cell_type": "code",
   "execution_count": 16,
   "id": "3ef50829",
   "metadata": {},
   "outputs": [],
   "source": [
    "top100 = top100.rename(columns={'Song':'song','Artist':'artist'})"
   ]
  },
  {
   "cell_type": "code",
   "execution_count": 17,
   "id": "02cfebd0",
   "metadata": {},
   "outputs": [
    {
     "data": {
      "text/plain": [
       "(10860, 2)"
      ]
     },
     "execution_count": 17,
     "metadata": {},
     "output_type": "execute_result"
    }
   ],
   "source": [
    "spotify_data.shape #(10860, 2)"
   ]
  },
  {
   "cell_type": "code",
   "execution_count": 18,
   "id": "29d0ce03",
   "metadata": {},
   "outputs": [
    {
     "data": {
      "text/html": [
       "<div>\n",
       "<style scoped>\n",
       "    .dataframe tbody tr th:only-of-type {\n",
       "        vertical-align: middle;\n",
       "    }\n",
       "\n",
       "    .dataframe tbody tr th {\n",
       "        vertical-align: top;\n",
       "    }\n",
       "\n",
       "    .dataframe thead th {\n",
       "        text-align: right;\n",
       "    }\n",
       "</style>\n",
       "<table border=\"1\" class=\"dataframe\">\n",
       "  <thead>\n",
       "    <tr style=\"text-align: right;\">\n",
       "      <th></th>\n",
       "      <th>song</th>\n",
       "      <th>artist</th>\n",
       "    </tr>\n",
       "  </thead>\n",
       "  <tbody>\n",
       "    <tr>\n",
       "      <th>0</th>\n",
       "      <td>sunflower__spiderman:_into_the_spiderverse</td>\n",
       "      <td>post_malone</td>\n",
       "    </tr>\n",
       "    <tr>\n",
       "      <th>1</th>\n",
       "      <td>lucid_dreams</td>\n",
       "      <td>juice_wrld</td>\n",
       "    </tr>\n",
       "    <tr>\n",
       "      <th>2</th>\n",
       "      <td>xo_tour_llif3</td>\n",
       "      <td>lil_uzi_vert</td>\n",
       "    </tr>\n",
       "    <tr>\n",
       "      <th>3</th>\n",
       "      <td>no_role_modelz</td>\n",
       "      <td>j._cole</td>\n",
       "    </tr>\n",
       "    <tr>\n",
       "      <th>4</th>\n",
       "      <td>rockstar</td>\n",
       "      <td>post_malone</td>\n",
       "    </tr>\n",
       "  </tbody>\n",
       "</table>\n",
       "</div>"
      ],
      "text/plain": [
       "                                         song        artist\n",
       "0  sunflower__spiderman:_into_the_spiderverse   post_malone\n",
       "1                                lucid_dreams    juice_wrld\n",
       "2                               xo_tour_llif3  lil_uzi_vert\n",
       "3                              no_role_modelz       j._cole\n",
       "4                                    rockstar   post_malone"
      ]
     },
     "execution_count": 18,
     "metadata": {},
     "output_type": "execute_result"
    }
   ],
   "source": [
    "spotify_data.head()"
   ]
  },
  {
   "cell_type": "code",
   "execution_count": 19,
   "id": "6079c9bb",
   "metadata": {},
   "outputs": [
    {
     "data": {
      "text/html": [
       "<div>\n",
       "<style scoped>\n",
       "    .dataframe tbody tr th:only-of-type {\n",
       "        vertical-align: middle;\n",
       "    }\n",
       "\n",
       "    .dataframe tbody tr th {\n",
       "        vertical-align: top;\n",
       "    }\n",
       "\n",
       "    .dataframe thead th {\n",
       "        text-align: right;\n",
       "    }\n",
       "</style>\n",
       "<table border=\"1\" class=\"dataframe\">\n",
       "  <thead>\n",
       "    <tr style=\"text-align: right;\">\n",
       "      <th></th>\n",
       "      <th>song</th>\n",
       "      <th>artist</th>\n",
       "    </tr>\n",
       "  </thead>\n",
       "  <tbody>\n",
       "  </tbody>\n",
       "</table>\n",
       "</div>"
      ],
      "text/plain": [
       "Empty DataFrame\n",
       "Columns: [song, artist]\n",
       "Index: []"
      ]
     },
     "execution_count": 19,
     "metadata": {},
     "output_type": "execute_result"
    }
   ],
   "source": [
    "#checking rihanna - lift_me_up\n",
    "spotify_data[spotify_data['song']=='lift_me_up']\n",
    "#good "
   ]
  },
  {
   "cell_type": "code",
   "execution_count": 20,
   "id": "4d84fa81",
   "metadata": {},
   "outputs": [],
   "source": [
    "spotify_data['song'] = spotify_data['song'].str.replace('_',' ')\n",
    "spotify_data['artist'] = spotify_data['artist'].str.replace('_',' ')\n",
    "spotify_data['artist'] = spotify_data['artist'].str.title()\n",
    "spotify_data['song'] = spotify_data['song'].str.title() "
   ]
  },
  {
   "cell_type": "code",
   "execution_count": 21,
   "id": "fe067cd4",
   "metadata": {},
   "outputs": [
    {
     "data": {
      "text/html": [
       "<div>\n",
       "<style scoped>\n",
       "    .dataframe tbody tr th:only-of-type {\n",
       "        vertical-align: middle;\n",
       "    }\n",
       "\n",
       "    .dataframe tbody tr th {\n",
       "        vertical-align: top;\n",
       "    }\n",
       "\n",
       "    .dataframe thead th {\n",
       "        text-align: right;\n",
       "    }\n",
       "</style>\n",
       "<table border=\"1\" class=\"dataframe\">\n",
       "  <thead>\n",
       "    <tr style=\"text-align: right;\">\n",
       "      <th></th>\n",
       "      <th>song</th>\n",
       "      <th>artist</th>\n",
       "    </tr>\n",
       "  </thead>\n",
       "  <tbody>\n",
       "    <tr>\n",
       "      <th>0</th>\n",
       "      <td>Sunflower  Spiderman: Into The Spiderverse</td>\n",
       "      <td>Post Malone</td>\n",
       "    </tr>\n",
       "    <tr>\n",
       "      <th>1</th>\n",
       "      <td>Lucid Dreams</td>\n",
       "      <td>Juice Wrld</td>\n",
       "    </tr>\n",
       "    <tr>\n",
       "      <th>2</th>\n",
       "      <td>Xo Tour Llif3</td>\n",
       "      <td>Lil Uzi Vert</td>\n",
       "    </tr>\n",
       "    <tr>\n",
       "      <th>3</th>\n",
       "      <td>No Role Modelz</td>\n",
       "      <td>J. Cole</td>\n",
       "    </tr>\n",
       "    <tr>\n",
       "      <th>4</th>\n",
       "      <td>Rockstar</td>\n",
       "      <td>Post Malone</td>\n",
       "    </tr>\n",
       "  </tbody>\n",
       "</table>\n",
       "</div>"
      ],
      "text/plain": [
       "                                         song        artist\n",
       "0  Sunflower  Spiderman: Into The Spiderverse   Post Malone\n",
       "1                                Lucid Dreams    Juice Wrld\n",
       "2                               Xo Tour Llif3  Lil Uzi Vert\n",
       "3                              No Role Modelz       J. Cole\n",
       "4                                    Rockstar   Post Malone"
      ]
     },
     "execution_count": 21,
     "metadata": {},
     "output_type": "execute_result"
    }
   ],
   "source": [
    "spotify_data.head()"
   ]
  },
  {
   "cell_type": "code",
   "execution_count": 28,
   "id": "a5831639",
   "metadata": {},
   "outputs": [],
   "source": [
    "spotify_data = spotify_data.sample(n = 5000).reset_index()"
   ]
  },
  {
   "cell_type": "code",
   "execution_count": 29,
   "id": "ed6a4028",
   "metadata": {},
   "outputs": [],
   "source": [
    "spotify_data.to_csv('not_hot_songs.csv')"
   ]
  },
  {
   "cell_type": "code",
   "execution_count": null,
   "id": "f6bf8af2",
   "metadata": {},
   "outputs": [],
   "source": []
  }
 ],
 "metadata": {
  "kernelspec": {
   "display_name": "Python 3",
   "language": "python",
   "name": "python3"
  },
  "language_info": {
   "codemirror_mode": {
    "name": "ipython",
    "version": 3
   },
   "file_extension": ".py",
   "mimetype": "text/x-python",
   "name": "python",
   "nbconvert_exporter": "python",
   "pygments_lexer": "ipython3",
   "version": "3.8.8"
  }
 },
 "nbformat": 4,
 "nbformat_minor": 5
}
